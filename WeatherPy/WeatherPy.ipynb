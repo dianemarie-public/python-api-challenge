{
 "cells": [
  {
   "cell_type": "markdown",
   "metadata": {},
   "source": [
    "# WeatherPy\n",
    "----"
   ]
  },
  {
   "cell_type": "markdown",
   "metadata": {},
   "source": [
    "## Generate Cities List\n",
    "\n",
    "* Found the limits of latitude and and longitude here [Mapbox | Help | latitude and longitude](https://docs.mapbox.com/help/glossary/lat-lon/#:~:text=Latitude%20and%20longitude%20are%20a,180%20to%20180%20for%20longitude.).\n",
    "* Found the random.uniform method at [NumPy.org | Random Sampling](https://numpy.org/doc/stable/reference/random/generated/numpy.random.uniform.html)\n",
    "```\n",
    "numpy.random.uniform(low=0.0, high=1.0, size=None)\n",
    "```\n",
    "* Found documentation and code for citipy here [citipy Release 0.0.5 | Looking up with coordinates](https://libraries.io/pypi/citipy).\n",
    "```\n",
    "from citipy import citipy\n",
    "# Coordinates for nearest city (latitude, longitude)\n",
    "city = citipy.nearest_city(22.99, 120.21)\n",
    "# Name of nearest city\n",
    "city.city_name\n",
    "# Country of nearest city\n",
    "city.country_code\n",
    "```\n",
    "* Found documentation on date/time stamps on page #67 here: [Python for Data Analysis](https://www.cin.ufpe.br/~embat/Python%20for%20Data%20Analysis.pdf)\n",
    "\n",
    "* Found documentation on formatting time here: [Python.org | Library | Time](https://docs.python.org/3/library/time.html)"
   ]
  },
  {
   "cell_type": "markdown",
   "metadata": {},
   "source": [
    "#### Randomly select **at least** 500 unique (non-repeat) cities based on latitude and longitude."
   ]
  },
  {
   "cell_type": "code",
   "execution_count": 1,
   "metadata": {},
   "outputs": [],
   "source": [
    "# Dependencies\n",
    "import os\n",
    "import matplotlib.pyplot as plt\n",
    "from scipy.stats import linregress\n",
    "import pandas as pd\n",
    "import numpy as np\n",
    "from citipy import citipy\n",
    "import requests\n",
    "\n",
    "# Import my api keys for Open Weather and Google\n",
    "from api_keys import weather_api_key"
   ]
  },
  {
   "cell_type": "code",
   "execution_count": 2,
   "metadata": {},
   "outputs": [],
   "source": [
    "# Create list for latitude/longitude and cities (separate from random versions)\n",
    "lat_long = []\n",
    "cities = []"
   ]
  },
  {
   "cell_type": "code",
   "execution_count": 3,
   "metadata": {
    "scrolled": true
   },
   "outputs": [
    {
     "name": "stdout",
     "output_type": "stream",
     "text": [
      "Number of cities found: 614.\n"
     ]
    },
    {
     "data": {
      "text/plain": [
       "'Attawapiskat'"
      ]
     },
     "execution_count": 3,
     "metadata": {},
     "output_type": "execute_result"
    }
   ],
   "source": [
    "# Create variables for random values\n",
    "# limits low/high -90/90 for latitude, -180/180 for longitude\n",
    "# 3000 (the 3rd value) is the amount of items to pull\n",
    "\n",
    "random_lat = np.random.uniform(low = 19.50139, high = 64.85694, size = 2000)\n",
    "random_long = np.random.uniform(low = -161.75583, high = -68.01197, size = 2000)\n",
    "random_lat_long = zip(random_lat, random_long)\n",
    "\n",
    "# Create a for loop to identify the closest city using citipy        \n",
    "for lat_long in random_lat_long:\n",
    "    city = citipy.nearest_city(lat_long[0], lat_long[1]).city_name\n",
    "    city = city.title()\n",
    "    \n",
    "    if city not in cities:\n",
    "        # Add geocode to cities list\n",
    "        cities.append(city)\n",
    "\n",
    "# Check count of actual cities found out of all the random coordinates generated\n",
    "print(f\"Number of cities found: {len(cities)}.\")\n",
    "city"
   ]
  },
  {
   "cell_type": "markdown",
   "metadata": {},
   "source": [
    "### Perform API Calls\n",
    "* Perform a weather check on each city using a series of successive API calls.\n",
    "* Include a print log of each city as it'sbeing processed (with the city number and city name)."
   ]
  },
  {
   "cell_type": "code",
   "execution_count": 4,
   "metadata": {},
   "outputs": [],
   "source": [
    "# Save api key(s) information\n",
    "url = \"http://api.openweathermap.org/data/2.5/weather?\" \n",
    "units = \"imperial\" # Thanks to my classmate Dez for warning me about this!\n",
    "\n",
    "query_url = f\"{url}appid={weather_api_key}&units={units}&q=\"\n",
    "\n",
    "# Set up lists to hold response data \n",
    "# from cities.csv sample in homework instructions, then match up with api specs.\n",
    "latitude = []\n",
    "longitude = []\n",
    "city_name = []\n",
    "country = []\n",
    "temp = []\n",
    "humidity = []\n",
    "cloudiness = []\n",
    "wind_speed = []\n",
    "date = []\n",
    "max_temp = []"
   ]
  },
  {
   "cell_type": "markdown",
   "metadata": {},
   "source": [
    "#### Open Weather API \n",
    "* Data needed from API found at: [Examples of API calls](https://openweathermap.org/current)\n",
    ">**coord: lon, lat | name | sys:** type, id, message, **country**, sunrise, sunset | **main: temp**, feels_like, temp_min, **temp_max**, pressure, **humidity | clouds: all | dt | wind: speed**, deg"
   ]
  },
  {
   "cell_type": "code",
   "execution_count": 5,
   "metadata": {
    "scrolled": true
   },
   "outputs": [
    {
     "name": "stdout",
     "output_type": "stream",
     "text": [
      "Looking for Open Weather data...\n",
      "Found Open Weather data for 1 of 614: North Bend\n",
      "Found Open Weather data for 2 of 614: Thompson\n",
      "Found Open Weather data for 3 of 614: Fortuna\n",
      "Found Open Weather data for 4 of 614: Shelburne\n",
      "Open Weather data not found for: Grand Centre\n",
      "Found Open Weather data for 5 of 614: Creel\n",
      "Found Open Weather data for 6 of 614: Guerrero Negro\n",
      "Found Open Weather data for 7 of 614: Cancun\n",
      "Found Open Weather data for 8 of 614: Baracoa\n",
      "Found Open Weather data for 9 of 614: Freeport\n",
      "Found Open Weather data for 10 of 614: Kodiak\n",
      "Found Open Weather data for 11 of 614: Norman Wells\n",
      "Found Open Weather data for 12 of 614: Whitehorse\n",
      "Found Open Weather data for 13 of 614: Saint-Felicien\n",
      "Found Open Weather data for 14 of 614: Pensacola\n",
      "Found Open Weather data for 15 of 614: Baker City\n",
      "Found Open Weather data for 16 of 614: Fort Nelson\n",
      "Found Open Weather data for 17 of 614: Terrace\n",
      "Found Open Weather data for 18 of 614: Hannibal\n",
      "Found Open Weather data for 19 of 614: Nuevo Progreso\n",
      "Found Open Weather data for 20 of 614: Fort Frances\n",
      "Found Open Weather data for 21 of 614: Sitka\n",
      "Found Open Weather data for 22 of 614: Fairbanks\n",
      "Found Open Weather data for 23 of 614: Bayonet Point\n",
      "Open Weather data not found for: Dolbeau\n",
      "Found Open Weather data for 24 of 614: Kahului\n",
      "Found Open Weather data for 25 of 614: Columbus\n",
      "Found Open Weather data for 26 of 614: Hilo\n",
      "Found Open Weather data for 27 of 614: Shawville\n",
      "Found Open Weather data for 28 of 614: Ukiah\n",
      "Found Open Weather data for 29 of 614: Lompoc\n",
      "Found Open Weather data for 30 of 614: Kapaa\n",
      "Found Open Weather data for 31 of 614: Anahuac\n",
      "Found Open Weather data for 32 of 614: Grinnell\n",
      "Found Open Weather data for 33 of 614: Gladstone\n",
      "Found Open Weather data for 34 of 614: Houma\n",
      "Found Open Weather data for 35 of 614: Port Hardy\n",
      "Found Open Weather data for 36 of 614: Queretaro\n",
      "Found Open Weather data for 37 of 614: Bahia Honda\n",
      "Found Open Weather data for 38 of 614: Prince Rupert\n",
      "Found Open Weather data for 39 of 614: Gibara\n",
      "Found Open Weather data for 40 of 614: Kenora\n",
      "Open Weather data not found for: Attawapiskat\n",
      "Found Open Weather data for 41 of 614: Ahuimanu\n",
      "Found Open Weather data for 42 of 614: Mulege\n",
      "Found Open Weather data for 43 of 614: Elkhart\n",
      "Found Open Weather data for 44 of 614: Haines Junction\n",
      "Found Open Weather data for 45 of 614: Norfolk\n",
      "Found Open Weather data for 46 of 614: Texas City\n",
      "Found Open Weather data for 47 of 614: Pineville\n",
      "Found Open Weather data for 48 of 614: Hanna\n",
      "Found Open Weather data for 49 of 614: Isla Mujeres\n",
      "Found Open Weather data for 50 of 614: Moose Factory\n",
      "Found Open Weather data for 51 of 614: Winslow\n",
      "Found Open Weather data for 52 of 614: Iqaluit\n",
      "Found Open Weather data for 53 of 614: La Tuque\n",
      "Found Open Weather data for 54 of 614: Celestun\n",
      "Found Open Weather data for 55 of 614: Tuscaloosa\n",
      "Found Open Weather data for 56 of 614: Mount Pleasant\n",
      "Found Open Weather data for 57 of 614: Boulder\n",
      "Found Open Weather data for 58 of 614: Chihuahua\n",
      "Found Open Weather data for 59 of 614: Truth Or Consequences\n",
      "Found Open Weather data for 60 of 614: Matagami\n",
      "Found Open Weather data for 61 of 614: Chapais\n",
      "Found Open Weather data for 62 of 614: Fillmore\n",
      "Found Open Weather data for 63 of 614: Tomatlan\n",
      "Found Open Weather data for 64 of 614: Minot\n",
      "Found Open Weather data for 65 of 614: Estelle\n",
      "Found Open Weather data for 66 of 614: Roswell\n",
      "Found Open Weather data for 67 of 614: La Ronge\n",
      "Found Open Weather data for 68 of 614: Yellowknife\n",
      "Found Open Weather data for 69 of 614: Flin Flon\n",
      "Found Open Weather data for 70 of 614: Valdosta\n",
      "Open Weather data not found for: Cockburn Harbour\n",
      "Found Open Weather data for 71 of 614: Pacific Grove\n",
      "Found Open Weather data for 72 of 614: Emmett\n",
      "Found Open Weather data for 73 of 614: Niquero\n",
      "Found Open Weather data for 74 of 614: Clemson\n",
      "Found Open Weather data for 75 of 614: Ketchikan\n",
      "Found Open Weather data for 76 of 614: Palmer\n",
      "Found Open Weather data for 77 of 614: Sabinas Hidalgo\n",
      "Found Open Weather data for 78 of 614: Bonnyville\n",
      "Found Open Weather data for 79 of 614: Unity\n",
      "Found Open Weather data for 80 of 614: Bozeman\n",
      "Found Open Weather data for 81 of 614: Hastings\n",
      "Found Open Weather data for 82 of 614: Pemberton\n",
      "Found Open Weather data for 83 of 614: Geraldton\n",
      "Found Open Weather data for 84 of 614: Half Moon Bay\n",
      "Found Open Weather data for 85 of 614: San Quintin\n",
      "Found Open Weather data for 86 of 614: Santa Ana\n",
      "Found Open Weather data for 87 of 614: Hay River\n",
      "Found Open Weather data for 88 of 614: Platteville\n",
      "Found Open Weather data for 89 of 614: Two Rivers\n",
      "Found Open Weather data for 90 of 614: Hamilton\n",
      "Found Open Weather data for 91 of 614: Glendive\n",
      "Found Open Weather data for 92 of 614: Constitucion\n",
      "Found Open Weather data for 93 of 614: Richmond Hill\n",
      "Found Open Weather data for 94 of 614: Slave Lake\n",
      "Found Open Weather data for 95 of 614: Williams Lake\n",
      "Found Open Weather data for 96 of 614: Benton Harbor\n",
      "Found Open Weather data for 97 of 614: Trinidad\n",
      "Found Open Weather data for 98 of 614: Saint Simons\n",
      "Found Open Weather data for 99 of 614: Lamar\n",
      "Found Open Weather data for 100 of 614: Thunder Bay\n",
      "Found Open Weather data for 101 of 614: High River\n",
      "Found Open Weather data for 102 of 614: Nagua\n",
      "Found Open Weather data for 103 of 614: Uvalde\n",
      "Found Open Weather data for 104 of 614: Hope\n",
      "Found Open Weather data for 105 of 614: Athens\n",
      "Found Open Weather data for 106 of 614: Eureka\n",
      "Found Open Weather data for 107 of 614: Lewiston\n",
      "Found Open Weather data for 108 of 614: Cockburn Town\n",
      "Found Open Weather data for 109 of 614: Binghamton\n",
      "Found Open Weather data for 110 of 614: Dauphin\n",
      "Found Open Weather data for 111 of 614: Hobbs\n",
      "Found Open Weather data for 112 of 614: Kenai\n",
      "Found Open Weather data for 113 of 614: Bucerias\n",
      "Found Open Weather data for 114 of 614: Toronto\n",
      "Found Open Weather data for 115 of 614: Marsh Harbour\n",
      "Found Open Weather data for 116 of 614: Dumas\n",
      "Found Open Weather data for 117 of 614: Stonewall\n",
      "Found Open Weather data for 118 of 614: Maneadero\n",
      "Found Open Weather data for 119 of 614: Aberdeen\n",
      "Found Open Weather data for 120 of 614: Cochrane\n",
      "Found Open Weather data for 121 of 614: Drayton Valley\n",
      "Found Open Weather data for 122 of 614: Stephenville\n",
      "Found Open Weather data for 123 of 614: Channahon\n",
      "Found Open Weather data for 124 of 614: Bluefield\n",
      "Found Open Weather data for 125 of 614: Lovington\n",
      "Found Open Weather data for 126 of 614: Atlantic Beach\n",
      "Found Open Weather data for 127 of 614: Amos\n",
      "Found Open Weather data for 128 of 614: Marquette\n",
      "Found Open Weather data for 129 of 614: Nacogdoches\n",
      "Found Open Weather data for 130 of 614: Port Arthur\n",
      "Found Open Weather data for 131 of 614: Sunbury\n",
      "Found Open Weather data for 132 of 614: Havelock\n",
      "Found Open Weather data for 133 of 614: Bethel\n",
      "Found Open Weather data for 134 of 614: Hattiesburg\n",
      "Found Open Weather data for 135 of 614: Chute-Aux-Outardes\n",
      "Found Open Weather data for 136 of 614: High Rock\n",
      "Found Open Weather data for 137 of 614: Medicine Hat\n",
      "Found Open Weather data for 138 of 614: Mapimi\n",
      "Found Open Weather data for 139 of 614: Saint Peter\n",
      "Found Open Weather data for 140 of 614: Douglasville\n",
      "Found Open Weather data for 141 of 614: Brownsville\n",
      "Found Open Weather data for 142 of 614: Mattawa\n",
      "Found Open Weather data for 143 of 614: Cosala\n",
      "Found Open Weather data for 144 of 614: Homer\n",
      "Found Open Weather data for 145 of 614: Tapalpa\n",
      "Found Open Weather data for 146 of 614: Oswego\n",
      "Found Open Weather data for 147 of 614: Mandan\n",
      "Found Open Weather data for 148 of 614: Willmar\n",
      "Found Open Weather data for 149 of 614: Grande Prairie\n",
      "Found Open Weather data for 150 of 614: Troy\n",
      "Found Open Weather data for 151 of 614: Rock Springs\n",
      "Found Open Weather data for 152 of 614: Chapleau\n",
      "Found Open Weather data for 153 of 614: Panama City\n",
      "Found Open Weather data for 154 of 614: Golden\n",
      "Found Open Weather data for 155 of 614: Woodward\n",
      "Found Open Weather data for 156 of 614: Salmon Arm\n",
      "Found Open Weather data for 157 of 614: Santa Barbara\n",
      "Found Open Weather data for 158 of 614: Hauterive\n",
      "Found Open Weather data for 159 of 614: Coos Bay\n",
      "Found Open Weather data for 160 of 614: Morgan City\n",
      "Found Open Weather data for 161 of 614: Fergus Falls\n",
      "Found Open Weather data for 162 of 614: Essex\n",
      "Found Open Weather data for 163 of 614: Shellbrook\n"
     ]
    },
    {
     "name": "stdout",
     "output_type": "stream",
     "text": [
      "Found Open Weather data for 164 of 614: Wake Forest\n",
      "Found Open Weather data for 165 of 614: Madison\n",
      "Found Open Weather data for 166 of 614: Hornepayne\n",
      "Found Open Weather data for 167 of 614: Saint George\n",
      "Found Open Weather data for 168 of 614: Havre\n",
      "Found Open Weather data for 169 of 614: Nantucket\n",
      "Found Open Weather data for 170 of 614: Smithers\n",
      "Found Open Weather data for 171 of 614: Linares\n",
      "Found Open Weather data for 172 of 614: Columbia\n",
      "Found Open Weather data for 173 of 614: Callaway\n",
      "Found Open Weather data for 174 of 614: Mendota\n",
      "Found Open Weather data for 175 of 614: Chippewa Falls\n",
      "Found Open Weather data for 176 of 614: Galveston\n",
      "Found Open Weather data for 177 of 614: Pierre\n",
      "Found Open Weather data for 178 of 614: Campbell River\n",
      "Found Open Weather data for 179 of 614: Hopewell\n",
      "Found Open Weather data for 180 of 614: Nuevitas\n",
      "Found Open Weather data for 181 of 614: Kamloops\n",
      "Found Open Weather data for 182 of 614: Big Rapids\n",
      "Found Open Weather data for 183 of 614: Cortez\n",
      "Found Open Weather data for 184 of 614: Springfield\n",
      "Found Open Weather data for 185 of 614: Price\n",
      "Found Open Weather data for 186 of 614: Jacala\n",
      "Found Open Weather data for 187 of 614: North Myrtle Beach\n",
      "Found Open Weather data for 188 of 614: Lac Du Bonnet\n",
      "Found Open Weather data for 189 of 614: River Falls\n",
      "Found Open Weather data for 190 of 614: Warman\n",
      "Found Open Weather data for 191 of 614: Cabo San Lucas\n",
      "Found Open Weather data for 192 of 614: Lubbock\n",
      "Found Open Weather data for 193 of 614: Sault Sainte Marie\n",
      "Found Open Weather data for 194 of 614: Marshfield\n",
      "Found Open Weather data for 195 of 614: Craig\n",
      "Found Open Weather data for 196 of 614: San Blas\n",
      "Open Weather data not found for: Longlac\n",
      "Found Open Weather data for 197 of 614: Peace River\n",
      "Found Open Weather data for 198 of 614: Victoria\n",
      "Found Open Weather data for 199 of 614: Winnemucca\n",
      "Found Open Weather data for 200 of 614: Carnduff\n",
      "Found Open Weather data for 201 of 614: Ocampo\n",
      "Found Open Weather data for 202 of 614: Hayden\n",
      "Found Open Weather data for 203 of 614: Clovis\n",
      "Found Open Weather data for 204 of 614: Sept-Iles\n",
      "Found Open Weather data for 205 of 614: Ridgecrest\n",
      "Found Open Weather data for 206 of 614: Healdsburg\n",
      "Found Open Weather data for 207 of 614: Snyder\n",
      "Found Open Weather data for 208 of 614: Georgetown\n",
      "Found Open Weather data for 209 of 614: Sedona\n",
      "Found Open Weather data for 210 of 614: Malartic\n",
      "Found Open Weather data for 211 of 614: Washington\n",
      "Found Open Weather data for 212 of 614: Wasilla\n",
      "Found Open Weather data for 213 of 614: Chillicothe\n",
      "Found Open Weather data for 214 of 614: Paraiso\n",
      "Found Open Weather data for 215 of 614: Santa Maria\n",
      "Found Open Weather data for 216 of 614: Todos Santos\n",
      "Found Open Weather data for 217 of 614: Rock Sound\n",
      "Found Open Weather data for 218 of 614: Albert Lea\n",
      "Found Open Weather data for 219 of 614: Belle Fourche\n",
      "Found Open Weather data for 220 of 614: Sharon\n",
      "Found Open Weather data for 221 of 614: Hermiston\n",
      "Found Open Weather data for 222 of 614: Thessalon\n",
      "Found Open Weather data for 223 of 614: Mundo Nuevo\n",
      "Found Open Weather data for 224 of 614: Grants\n",
      "Found Open Weather data for 225 of 614: Smyrna\n",
      "Found Open Weather data for 226 of 614: Didsbury\n",
      "Found Open Weather data for 227 of 614: North Platte\n",
      "Found Open Weather data for 228 of 614: Vega De Alatorre\n",
      "Found Open Weather data for 229 of 614: Estevan\n",
      "Found Open Weather data for 230 of 614: Liberal\n",
      "Found Open Weather data for 231 of 614: Mason City\n",
      "Found Open Weather data for 232 of 614: Neosho\n",
      "Found Open Weather data for 233 of 614: Socorro\n",
      "Found Open Weather data for 234 of 614: North Las Vegas\n",
      "Found Open Weather data for 235 of 614: The Pas\n",
      "Found Open Weather data for 236 of 614: Orange Cove\n",
      "Found Open Weather data for 237 of 614: Lac-Megantic\n",
      "Found Open Weather data for 238 of 614: Saint-Ambroise\n",
      "Found Open Weather data for 239 of 614: Wilmington\n",
      "Found Open Weather data for 240 of 614: Regina\n",
      "Found Open Weather data for 241 of 614: Utica\n",
      "Found Open Weather data for 242 of 614: Guane\n",
      "Found Open Weather data for 243 of 614: Sioux Lookout\n",
      "Found Open Weather data for 244 of 614: Bow Island\n",
      "Found Open Weather data for 245 of 614: Pahrump\n",
      "Found Open Weather data for 246 of 614: Kailua\n",
      "Found Open Weather data for 247 of 614: Twentynine Palms\n",
      "Found Open Weather data for 248 of 614: Hailey\n",
      "Found Open Weather data for 249 of 614: Radcliff\n",
      "Found Open Weather data for 250 of 614: Rosenberg\n",
      "Found Open Weather data for 251 of 614: Juneau\n",
      "Found Open Weather data for 252 of 614: Cloquet\n",
      "Found Open Weather data for 253 of 614: Three Hills\n",
      "Found Open Weather data for 254 of 614: La Union\n",
      "Found Open Weather data for 255 of 614: Canon City\n",
      "Found Open Weather data for 256 of 614: Dalmeny\n",
      "Found Open Weather data for 257 of 614: Kankakee\n",
      "Found Open Weather data for 258 of 614: El Cobre\n",
      "Found Open Weather data for 259 of 614: Bemidji\n",
      "Found Open Weather data for 260 of 614: Hearst\n",
      "Found Open Weather data for 261 of 614: Santa Catarina De Tepehuanes\n",
      "Found Open Weather data for 262 of 614: West Lorne\n",
      "Found Open Weather data for 263 of 614: Marion\n",
      "Found Open Weather data for 264 of 614: Ardmore\n",
      "Found Open Weather data for 265 of 614: Merrill\n",
      "Found Open Weather data for 266 of 614: Morgantown\n",
      "Found Open Weather data for 267 of 614: Raymondville\n",
      "Found Open Weather data for 268 of 614: Pacifica\n",
      "Found Open Weather data for 269 of 614: Chase\n",
      "Found Open Weather data for 270 of 614: Worland\n",
      "Found Open Weather data for 271 of 614: Mayo\n",
      "Found Open Weather data for 272 of 614: Preston\n",
      "Found Open Weather data for 273 of 614: Naica\n",
      "Found Open Weather data for 274 of 614: Amarillo\n",
      "Found Open Weather data for 275 of 614: Gimli\n",
      "Found Open Weather data for 276 of 614: Bryan\n",
      "Found Open Weather data for 277 of 614: Sterling\n",
      "Found Open Weather data for 278 of 614: Newport\n",
      "Found Open Weather data for 279 of 614: Abbeville\n",
      "Found Open Weather data for 280 of 614: Pleasanton\n",
      "Found Open Weather data for 281 of 614: Scottsbluff\n",
      "Found Open Weather data for 282 of 614: Castlegar\n",
      "Found Open Weather data for 283 of 614: Klamath Falls\n",
      "Found Open Weather data for 284 of 614: New Milford\n",
      "Found Open Weather data for 285 of 614: High Prairie\n",
      "Open Weather data not found for: Fort Saint John\n",
      "Found Open Weather data for 286 of 614: Grafton\n",
      "Found Open Weather data for 287 of 614: San Fernando\n",
      "Found Open Weather data for 288 of 614: Magrath\n",
      "Found Open Weather data for 289 of 614: Durango\n",
      "Found Open Weather data for 290 of 614: Calabazar De Sagua\n",
      "Found Open Weather data for 291 of 614: Tulum\n",
      "Found Open Weather data for 292 of 614: Big Spring\n",
      "Found Open Weather data for 293 of 614: Delicias\n",
      "Found Open Weather data for 294 of 614: Forest Acres\n",
      "Found Open Weather data for 295 of 614: Casper\n",
      "Found Open Weather data for 296 of 614: San Buenaventura\n",
      "Found Open Weather data for 297 of 614: Alpena\n",
      "Found Open Weather data for 298 of 614: Milford\n",
      "Found Open Weather data for 299 of 614: Saucillo\n",
      "Found Open Weather data for 300 of 614: San Angelo\n",
      "Found Open Weather data for 301 of 614: Greenville\n",
      "Found Open Weather data for 302 of 614: West Monroe\n",
      "Found Open Weather data for 303 of 614: Charlestown\n",
      "Found Open Weather data for 304 of 614: Moa\n",
      "Found Open Weather data for 305 of 614: Lexington Park\n",
      "Found Open Weather data for 306 of 614: Porterville\n",
      "Found Open Weather data for 307 of 614: Brainerd\n",
      "Found Open Weather data for 308 of 614: West Fargo\n",
      "Found Open Weather data for 309 of 614: Flagstaff\n",
      "Found Open Weather data for 310 of 614: Puerto Penasco\n",
      "Found Open Weather data for 311 of 614: Leona Vicario\n",
      "Found Open Weather data for 312 of 614: High Level\n",
      "Found Open Weather data for 313 of 614: Hillsboro\n",
      "Found Open Weather data for 314 of 614: Pueblo\n",
      "Found Open Weather data for 315 of 614: Blacksburg\n",
      "Found Open Weather data for 316 of 614: Winona\n",
      "Found Open Weather data for 317 of 614: California City\n",
      "Found Open Weather data for 318 of 614: San Felipe\n",
      "Found Open Weather data for 319 of 614: Sosua\n",
      "Found Open Weather data for 320 of 614: Tullahoma\n",
      "Found Open Weather data for 321 of 614: Kingston\n",
      "Found Open Weather data for 322 of 614: Vanderhoof\n",
      "Found Open Weather data for 323 of 614: Saint-Raphael\n",
      "Found Open Weather data for 324 of 614: Show Low\n",
      "Found Open Weather data for 325 of 614: Athabasca\n"
     ]
    },
    {
     "name": "stdout",
     "output_type": "stream",
     "text": [
      "Found Open Weather data for 326 of 614: Wahiawa\n",
      "Found Open Weather data for 327 of 614: Cocorit\n",
      "Found Open Weather data for 328 of 614: North Augusta\n",
      "Found Open Weather data for 329 of 614: Rio Cauto\n",
      "Found Open Weather data for 330 of 614: Santa Rosalia\n",
      "Found Open Weather data for 331 of 614: Nuevo Laredo\n",
      "Open Weather data not found for: One Hundred Mile House\n",
      "Found Open Weather data for 332 of 614: Redmond\n",
      "Found Open Weather data for 333 of 614: Spearfish\n",
      "Found Open Weather data for 334 of 614: Waverly\n",
      "Found Open Weather data for 335 of 614: Houston\n",
      "Found Open Weather data for 336 of 614: Carson City\n",
      "Found Open Weather data for 337 of 614: Madison Heights\n",
      "Found Open Weather data for 338 of 614: Valley\n",
      "Found Open Weather data for 339 of 614: Robinson\n",
      "Found Open Weather data for 340 of 614: Santa Maria Del Oro\n",
      "Found Open Weather data for 341 of 614: Lehi\n",
      "Found Open Weather data for 342 of 614: Xicotencatl\n",
      "Found Open Weather data for 343 of 614: Mascota\n",
      "Found Open Weather data for 344 of 614: Valcourt\n",
      "Found Open Weather data for 345 of 614: Barraute\n",
      "Found Open Weather data for 346 of 614: Ucluelet\n",
      "Found Open Weather data for 347 of 614: Homestead\n",
      "Found Open Weather data for 348 of 614: Iowa City\n",
      "Found Open Weather data for 349 of 614: Little Rock\n",
      "Found Open Weather data for 350 of 614: Lincoln\n",
      "Found Open Weather data for 351 of 614: San Luis\n",
      "Found Open Weather data for 352 of 614: Aylmer\n",
      "Found Open Weather data for 353 of 614: Altus\n",
      "Found Open Weather data for 354 of 614: Tallahassee\n",
      "Found Open Weather data for 355 of 614: Fort Pierce\n",
      "Found Open Weather data for 356 of 614: Atikokan\n",
      "Found Open Weather data for 357 of 614: Grenada\n",
      "Found Open Weather data for 358 of 614: Beaupre\n",
      "Found Open Weather data for 359 of 614: Morro Bay\n",
      "Found Open Weather data for 360 of 614: Merritt Island\n",
      "Found Open Weather data for 361 of 614: Placerville\n",
      "Found Open Weather data for 362 of 614: Nautla\n",
      "Found Open Weather data for 363 of 614: Astoria\n",
      "Found Open Weather data for 364 of 614: Galeana\n",
      "Found Open Weather data for 365 of 614: Meadow Lake\n",
      "Found Open Weather data for 366 of 614: Taos\n",
      "Found Open Weather data for 367 of 614: Potam\n",
      "Found Open Weather data for 368 of 614: Abilene\n",
      "Open Weather data not found for: Port-De-Paix\n",
      "Found Open Weather data for 369 of 614: Brigantine\n",
      "Found Open Weather data for 370 of 614: Garden City\n",
      "Found Open Weather data for 371 of 614: Cardston\n",
      "Found Open Weather data for 372 of 614: Rocky Mount\n",
      "Found Open Weather data for 373 of 614: Normandin\n",
      "Found Open Weather data for 374 of 614: Harwich\n",
      "Found Open Weather data for 375 of 614: Ferme-Neuve\n",
      "Found Open Weather data for 376 of 614: Fairmont\n",
      "Found Open Weather data for 377 of 614: Panaba\n",
      "Found Open Weather data for 378 of 614: Soldotna\n",
      "Found Open Weather data for 379 of 614: Fayetteville\n",
      "Found Open Weather data for 380 of 614: Boone\n",
      "Found Open Weather data for 381 of 614: Maple Creek\n",
      "Found Open Weather data for 382 of 614: Dillon\n",
      "Found Open Weather data for 383 of 614: Clarence Town\n",
      "Found Open Weather data for 384 of 614: Mantua\n",
      "Found Open Weather data for 385 of 614: Pearl\n",
      "Found Open Weather data for 386 of 614: Great Falls\n",
      "Found Open Weather data for 387 of 614: Madera\n",
      "Found Open Weather data for 388 of 614: Rockport\n",
      "Found Open Weather data for 389 of 614: Fort Saint James\n",
      "Found Open Weather data for 390 of 614: Claresholm\n",
      "Found Open Weather data for 391 of 614: Jacksonville\n",
      "Found Open Weather data for 392 of 614: Midland\n",
      "Found Open Weather data for 393 of 614: Canton\n",
      "Found Open Weather data for 394 of 614: Monroe\n",
      "Found Open Weather data for 395 of 614: Atotonilco El Alto\n",
      "Found Open Weather data for 396 of 614: Kantunilkin\n",
      "Found Open Weather data for 397 of 614: Pascagoula\n",
      "Found Open Weather data for 398 of 614: Ponca City\n",
      "Found Open Weather data for 399 of 614: Payson\n",
      "Found Open Weather data for 400 of 614: Ada\n",
      "Found Open Weather data for 401 of 614: Statesboro\n",
      "Found Open Weather data for 402 of 614: Boulder City\n",
      "Found Open Weather data for 403 of 614: Jamestown\n",
      "Found Open Weather data for 404 of 614: Puga\n",
      "Found Open Weather data for 405 of 614: Troutdale\n",
      "Found Open Weather data for 406 of 614: Fort Stewart\n",
      "Found Open Weather data for 407 of 614: Danville\n",
      "Found Open Weather data for 408 of 614: Fallon\n",
      "Found Open Weather data for 409 of 614: Dublin\n",
      "Found Open Weather data for 410 of 614: Cape Canaveral\n",
      "Found Open Weather data for 411 of 614: Carmen\n",
      "Found Open Weather data for 412 of 614: Red Bluff\n",
      "Found Open Weather data for 413 of 614: Marathon\n",
      "Found Open Weather data for 414 of 614: Charleston\n",
      "Found Open Weather data for 415 of 614: West Des Moines\n",
      "Found Open Weather data for 416 of 614: Port-Cartier\n",
      "Found Open Weather data for 417 of 614: Kirkland Lake\n",
      "Found Open Weather data for 418 of 614: Indianola\n",
      "Found Open Weather data for 419 of 614: Camargo\n",
      "Found Open Weather data for 420 of 614: San Pedro\n",
      "Found Open Weather data for 421 of 614: Bellefontaine\n",
      "Found Open Weather data for 422 of 614: Dawson Creek\n",
      "Found Open Weather data for 423 of 614: Spring Valley\n",
      "Found Open Weather data for 424 of 614: Mexico\n",
      "Found Open Weather data for 425 of 614: Jaguey Grande\n",
      "Found Open Weather data for 426 of 614: Dunmore Town\n",
      "Found Open Weather data for 427 of 614: Etchoropo\n",
      "Found Open Weather data for 428 of 614: Valley City\n",
      "Found Open Weather data for 429 of 614: Fort Dodge\n",
      "Found Open Weather data for 430 of 614: Santa Isabel\n",
      "Found Open Weather data for 431 of 614: Caledon East\n",
      "Found Open Weather data for 432 of 614: Brockville\n",
      "Found Open Weather data for 433 of 614: Swanzey\n",
      "Found Open Weather data for 434 of 614: Culiacan\n",
      "Found Open Weather data for 435 of 614: Guelph\n",
      "Found Open Weather data for 436 of 614: Cheney\n",
      "Found Open Weather data for 437 of 614: Montrose\n",
      "Found Open Weather data for 438 of 614: Ormond Beach\n",
      "Found Open Weather data for 439 of 614: Elmira\n",
      "Found Open Weather data for 440 of 614: Valentin Gomez Farias\n",
      "Found Open Weather data for 441 of 614: Dzilam Gonzalez\n",
      "Found Open Weather data for 442 of 614: Ontario\n",
      "Found Open Weather data for 443 of 614: Harrisburg\n",
      "Found Open Weather data for 444 of 614: Kendallville\n",
      "Found Open Weather data for 445 of 614: Osoyoos\n",
      "Found Open Weather data for 446 of 614: Dodge City\n",
      "Found Open Weather data for 447 of 614: Kerrville\n",
      "Found Open Weather data for 448 of 614: Traverse City\n",
      "Found Open Weather data for 449 of 614: Kamsack\n",
      "Found Open Weather data for 450 of 614: Nipawin\n",
      "Found Open Weather data for 451 of 614: Peto\n",
      "Found Open Weather data for 452 of 614: Sapulpa\n",
      "Found Open Weather data for 453 of 614: Orangeburg\n",
      "Found Open Weather data for 454 of 614: Gainesville\n",
      "Found Open Weather data for 455 of 614: Point Pleasant\n",
      "Found Open Weather data for 456 of 614: Batavia\n",
      "Found Open Weather data for 457 of 614: Santa Maria Del Rio\n",
      "Found Open Weather data for 458 of 614: Searcy\n",
      "Found Open Weather data for 459 of 614: Riverton\n",
      "Found Open Weather data for 460 of 614: Gardner\n",
      "Found Open Weather data for 461 of 614: Ojinaga\n",
      "Found Open Weather data for 462 of 614: Polson\n",
      "Found Open Weather data for 463 of 614: Kennett\n",
      "Found Open Weather data for 464 of 614: Saint-Gabriel\n",
      "Found Open Weather data for 465 of 614: West Odessa\n",
      "Open Weather data not found for: Hebertville\n",
      "Found Open Weather data for 466 of 614: Casas Grandes\n",
      "Found Open Weather data for 467 of 614: Clairmont\n",
      "Found Open Weather data for 468 of 614: Rome\n",
      "Found Open Weather data for 469 of 614: Naples\n",
      "Found Open Weather data for 470 of 614: Plymouth\n",
      "Found Open Weather data for 471 of 614: Altamont\n",
      "Found Open Weather data for 472 of 614: Elizabeth City\n",
      "Found Open Weather data for 473 of 614: Rapid Valley\n",
      "Found Open Weather data for 474 of 614: Oneonta\n",
      "Found Open Weather data for 475 of 614: Virginia Beach\n",
      "Found Open Weather data for 476 of 614: Stony Mountain\n",
      "Found Open Weather data for 477 of 614: Valleyview\n",
      "Found Open Weather data for 478 of 614: Indian Trail\n",
      "Found Open Weather data for 479 of 614: Biggar\n",
      "Found Open Weather data for 480 of 614: Grand Forks\n",
      "Found Open Weather data for 481 of 614: Manitouwadge\n",
      "Found Open Weather data for 482 of 614: Cozumel\n",
      "Found Open Weather data for 483 of 614: Progreso\n",
      "Found Open Weather data for 484 of 614: Erie\n",
      "Found Open Weather data for 485 of 614: Mastic Beach\n",
      "Found Open Weather data for 486 of 614: Cadillac\n",
      "Found Open Weather data for 487 of 614: Long Beach\n"
     ]
    },
    {
     "name": "stdout",
     "output_type": "stream",
     "text": [
      "Found Open Weather data for 488 of 614: Olive Branch\n",
      "Found Open Weather data for 489 of 614: Powell\n",
      "Found Open Weather data for 490 of 614: Palm Coast\n",
      "Found Open Weather data for 491 of 614: Seaford\n",
      "Found Open Weather data for 492 of 614: Macklin\n",
      "Found Open Weather data for 493 of 614: Key West\n",
      "Found Open Weather data for 494 of 614: Hammond\n",
      "Found Open Weather data for 495 of 614: Moorhead\n",
      "Found Open Weather data for 496 of 614: Lebanon\n",
      "Found Open Weather data for 497 of 614: Samana\n",
      "Found Open Weather data for 498 of 614: Virden\n",
      "Found Open Weather data for 499 of 614: Huron\n",
      "Found Open Weather data for 500 of 614: Andros Town\n"
     ]
    }
   ],
   "source": [
    "# Create for loop from the list of random cities generated in the first part\n",
    "# Don't forget a counter and the try exception!\n",
    "\n",
    "count = 1\n",
    "\n",
    "print(f\"Looking for Open Weather data...\")\n",
    "\n",
    "for city in cities:\n",
    "    try:\n",
    "        if(count > 500):\n",
    "            break\n",
    "        weather_data = requests.get(f\"{query_url}{city}\").json()\n",
    "        \n",
    "        latitude.append(weather_data[\"coord\"][\"lat\"])\n",
    "        longitude.append(weather_data[\"coord\"][\"lon\"])\n",
    "        city_name.append(weather_data[\"name\"])\n",
    "        country.append(weather_data[\"sys\"][\"country\"])\n",
    "        temp.append(weather_data[\"main\"][\"temp\"])\n",
    "        humidity.append(weather_data[\"main\"][\"humidity\"])\n",
    "        cloudiness.append(weather_data[\"clouds\"][\"all\"])\n",
    "        wind_speed.append(weather_data[\"wind\"][\"speed\"])\n",
    "        date.append(weather_data[\"dt\"])\n",
    "        max_temp.append(weather_data[\"main\"]['temp_max'])\n",
    "        \n",
    "        print(f\"Found Open Weather data for {count} of {len(cities)}: {city}\")\n",
    "        count = count + 1\n",
    "        \n",
    "    except:\n",
    "        print(f\"Open Weather data not found for: {city}\")\n",
    "    \n",
    "    continue "
   ]
  },
  {
   "cell_type": "markdown",
   "metadata": {},
   "source": [
    "# Create a data frame from cities and lat_long"
   ]
  },
  {
   "cell_type": "code",
   "execution_count": 6,
   "metadata": {},
   "outputs": [
    {
     "name": "stdout",
     "output_type": "stream",
     "text": [
      "Latitude               500\n",
      "Longitude              500\n",
      "City                   500\n",
      "Country                500\n",
      "Temperature            500\n",
      "Humidity               500\n",
      "Cloudiness             500\n",
      "Wind Speed             500\n",
      "Date                   500\n",
      "Maximum Temperature    500\n",
      "dtype: int64\n"
     ]
    },
    {
     "data": {
      "text/html": [
       "<div>\n",
       "<style scoped>\n",
       "    .dataframe tbody tr th:only-of-type {\n",
       "        vertical-align: middle;\n",
       "    }\n",
       "\n",
       "    .dataframe tbody tr th {\n",
       "        vertical-align: top;\n",
       "    }\n",
       "\n",
       "    .dataframe thead th {\n",
       "        text-align: right;\n",
       "    }\n",
       "</style>\n",
       "<table border=\"1\" class=\"dataframe\">\n",
       "  <thead>\n",
       "    <tr style=\"text-align: right;\">\n",
       "      <th></th>\n",
       "      <th>Latitude</th>\n",
       "      <th>Longitude</th>\n",
       "      <th>City</th>\n",
       "      <th>Country</th>\n",
       "      <th>Temperature</th>\n",
       "      <th>Humidity</th>\n",
       "      <th>Cloudiness</th>\n",
       "      <th>Wind Speed</th>\n",
       "      <th>Date</th>\n",
       "      <th>Maximum Temperature</th>\n",
       "    </tr>\n",
       "  </thead>\n",
       "  <tbody>\n",
       "    <tr>\n",
       "      <th>0</th>\n",
       "      <td>43.41</td>\n",
       "      <td>-124.22</td>\n",
       "      <td>North Bend</td>\n",
       "      <td>US</td>\n",
       "      <td>54.64</td>\n",
       "      <td>100</td>\n",
       "      <td>75</td>\n",
       "      <td>5.82</td>\n",
       "      <td>1602661168</td>\n",
       "      <td>55.99</td>\n",
       "    </tr>\n",
       "    <tr>\n",
       "      <th>1</th>\n",
       "      <td>55.74</td>\n",
       "      <td>-97.86</td>\n",
       "      <td>Thompson</td>\n",
       "      <td>CA</td>\n",
       "      <td>30.20</td>\n",
       "      <td>74</td>\n",
       "      <td>40</td>\n",
       "      <td>11.41</td>\n",
       "      <td>1602661168</td>\n",
       "      <td>30.20</td>\n",
       "    </tr>\n",
       "    <tr>\n",
       "      <th>2</th>\n",
       "      <td>40.60</td>\n",
       "      <td>-124.16</td>\n",
       "      <td>Fortuna</td>\n",
       "      <td>US</td>\n",
       "      <td>60.53</td>\n",
       "      <td>100</td>\n",
       "      <td>90</td>\n",
       "      <td>3.36</td>\n",
       "      <td>1602661168</td>\n",
       "      <td>62.01</td>\n",
       "    </tr>\n",
       "    <tr>\n",
       "      <th>3</th>\n",
       "      <td>44.08</td>\n",
       "      <td>-80.20</td>\n",
       "      <td>Shelburne</td>\n",
       "      <td>CA</td>\n",
       "      <td>45.55</td>\n",
       "      <td>87</td>\n",
       "      <td>1</td>\n",
       "      <td>10.40</td>\n",
       "      <td>1602661168</td>\n",
       "      <td>46.00</td>\n",
       "    </tr>\n",
       "    <tr>\n",
       "      <th>4</th>\n",
       "      <td>27.75</td>\n",
       "      <td>-107.63</td>\n",
       "      <td>Creel</td>\n",
       "      <td>MX</td>\n",
       "      <td>53.40</td>\n",
       "      <td>52</td>\n",
       "      <td>98</td>\n",
       "      <td>3.76</td>\n",
       "      <td>1602661168</td>\n",
       "      <td>53.40</td>\n",
       "    </tr>\n",
       "  </tbody>\n",
       "</table>\n",
       "</div>"
      ],
      "text/plain": [
       "   Latitude  Longitude        City Country  Temperature  Humidity  Cloudiness  \\\n",
       "0     43.41    -124.22  North Bend      US        54.64       100          75   \n",
       "1     55.74     -97.86    Thompson      CA        30.20        74          40   \n",
       "2     40.60    -124.16     Fortuna      US        60.53       100          90   \n",
       "3     44.08     -80.20   Shelburne      CA        45.55        87           1   \n",
       "4     27.75    -107.63       Creel      MX        53.40        52          98   \n",
       "\n",
       "   Wind Speed        Date  Maximum Temperature  \n",
       "0        5.82  1602661168                55.99  \n",
       "1       11.41  1602661168                30.20  \n",
       "2        3.36  1602661168                62.01  \n",
       "3       10.40  1602661168                46.00  \n",
       "4        3.76  1602661168                53.40  "
      ]
     },
     "execution_count": 6,
     "metadata": {},
     "output_type": "execute_result"
    }
   ],
   "source": [
    "weather_dict = {\n",
    "    \"Latitude\":latitude,\n",
    "    \"Longitude\":longitude,\n",
    "    \"City\":city_name,\n",
    "    \"Country\":country,\n",
    "    \"Temperature\":temp,\n",
    "    \"Humidity\":humidity,\n",
    "    \"Cloudiness\":cloudiness,\n",
    "    \"Wind Speed\":wind_speed,\n",
    "    \"Date\":date,\n",
    "    \"Maximum Temperature\":max_temp    \n",
    "}\n",
    "\n",
    "weather_data = pd.DataFrame(weather_dict)\n",
    "print(weather_data.count())\n",
    "weather_data.head()"
   ]
  },
  {
   "cell_type": "markdown",
   "metadata": {},
   "source": [
    "### Convert Raw Data to DataFrame\n",
    "* Export the city data into a .csv.\n",
    "* Display the DataFrame"
   ]
  },
  {
   "cell_type": "code",
   "execution_count": 7,
   "metadata": {},
   "outputs": [
    {
     "data": {
      "text/html": [
       "<div>\n",
       "<style scoped>\n",
       "    .dataframe tbody tr th:only-of-type {\n",
       "        vertical-align: middle;\n",
       "    }\n",
       "\n",
       "    .dataframe tbody tr th {\n",
       "        vertical-align: top;\n",
       "    }\n",
       "\n",
       "    .dataframe thead th {\n",
       "        text-align: right;\n",
       "    }\n",
       "</style>\n",
       "<table border=\"1\" class=\"dataframe\">\n",
       "  <thead>\n",
       "    <tr style=\"text-align: right;\">\n",
       "      <th></th>\n",
       "      <th>Latitude</th>\n",
       "      <th>Longitude</th>\n",
       "      <th>City</th>\n",
       "      <th>Country</th>\n",
       "      <th>Temperature</th>\n",
       "      <th>Humidity</th>\n",
       "      <th>Cloudiness</th>\n",
       "      <th>Wind Speed</th>\n",
       "      <th>Date</th>\n",
       "      <th>Maximum Temperature</th>\n",
       "    </tr>\n",
       "  </thead>\n",
       "  <tbody>\n",
       "    <tr>\n",
       "      <th>0</th>\n",
       "      <td>43.41</td>\n",
       "      <td>-124.22</td>\n",
       "      <td>North Bend</td>\n",
       "      <td>US</td>\n",
       "      <td>54.64</td>\n",
       "      <td>100</td>\n",
       "      <td>75</td>\n",
       "      <td>5.82</td>\n",
       "      <td>1602661168</td>\n",
       "      <td>55.99</td>\n",
       "    </tr>\n",
       "    <tr>\n",
       "      <th>1</th>\n",
       "      <td>55.74</td>\n",
       "      <td>-97.86</td>\n",
       "      <td>Thompson</td>\n",
       "      <td>CA</td>\n",
       "      <td>30.20</td>\n",
       "      <td>74</td>\n",
       "      <td>40</td>\n",
       "      <td>11.41</td>\n",
       "      <td>1602661168</td>\n",
       "      <td>30.20</td>\n",
       "    </tr>\n",
       "    <tr>\n",
       "      <th>2</th>\n",
       "      <td>40.60</td>\n",
       "      <td>-124.16</td>\n",
       "      <td>Fortuna</td>\n",
       "      <td>US</td>\n",
       "      <td>60.53</td>\n",
       "      <td>100</td>\n",
       "      <td>90</td>\n",
       "      <td>3.36</td>\n",
       "      <td>1602661168</td>\n",
       "      <td>62.01</td>\n",
       "    </tr>\n",
       "    <tr>\n",
       "      <th>3</th>\n",
       "      <td>44.08</td>\n",
       "      <td>-80.20</td>\n",
       "      <td>Shelburne</td>\n",
       "      <td>CA</td>\n",
       "      <td>45.55</td>\n",
       "      <td>87</td>\n",
       "      <td>1</td>\n",
       "      <td>10.40</td>\n",
       "      <td>1602661168</td>\n",
       "      <td>46.00</td>\n",
       "    </tr>\n",
       "    <tr>\n",
       "      <th>4</th>\n",
       "      <td>27.75</td>\n",
       "      <td>-107.63</td>\n",
       "      <td>Creel</td>\n",
       "      <td>MX</td>\n",
       "      <td>53.40</td>\n",
       "      <td>52</td>\n",
       "      <td>98</td>\n",
       "      <td>3.76</td>\n",
       "      <td>1602661168</td>\n",
       "      <td>53.40</td>\n",
       "    </tr>\n",
       "    <tr>\n",
       "      <th>...</th>\n",
       "      <td>...</td>\n",
       "      <td>...</td>\n",
       "      <td>...</td>\n",
       "      <td>...</td>\n",
       "      <td>...</td>\n",
       "      <td>...</td>\n",
       "      <td>...</td>\n",
       "      <td>...</td>\n",
       "      <td>...</td>\n",
       "      <td>...</td>\n",
       "    </tr>\n",
       "    <tr>\n",
       "      <th>495</th>\n",
       "      <td>36.21</td>\n",
       "      <td>-86.29</td>\n",
       "      <td>Lebanon</td>\n",
       "      <td>US</td>\n",
       "      <td>46.40</td>\n",
       "      <td>100</td>\n",
       "      <td>75</td>\n",
       "      <td>2.77</td>\n",
       "      <td>1602661229</td>\n",
       "      <td>46.40</td>\n",
       "    </tr>\n",
       "    <tr>\n",
       "      <th>496</th>\n",
       "      <td>19.21</td>\n",
       "      <td>-69.34</td>\n",
       "      <td>Samaná</td>\n",
       "      <td>DO</td>\n",
       "      <td>75.56</td>\n",
       "      <td>86</td>\n",
       "      <td>0</td>\n",
       "      <td>1.81</td>\n",
       "      <td>1602661229</td>\n",
       "      <td>75.56</td>\n",
       "    </tr>\n",
       "    <tr>\n",
       "      <th>497</th>\n",
       "      <td>39.50</td>\n",
       "      <td>-89.77</td>\n",
       "      <td>Virden</td>\n",
       "      <td>US</td>\n",
       "      <td>51.03</td>\n",
       "      <td>68</td>\n",
       "      <td>100</td>\n",
       "      <td>1.99</td>\n",
       "      <td>1602661229</td>\n",
       "      <td>52.00</td>\n",
       "    </tr>\n",
       "    <tr>\n",
       "      <th>498</th>\n",
       "      <td>41.15</td>\n",
       "      <td>-82.55</td>\n",
       "      <td>Huron</td>\n",
       "      <td>US</td>\n",
       "      <td>52.30</td>\n",
       "      <td>68</td>\n",
       "      <td>0</td>\n",
       "      <td>1.01</td>\n",
       "      <td>1602661230</td>\n",
       "      <td>53.01</td>\n",
       "    </tr>\n",
       "    <tr>\n",
       "      <th>499</th>\n",
       "      <td>24.70</td>\n",
       "      <td>-77.77</td>\n",
       "      <td>Andros Town</td>\n",
       "      <td>BS</td>\n",
       "      <td>80.60</td>\n",
       "      <td>83</td>\n",
       "      <td>40</td>\n",
       "      <td>6.93</td>\n",
       "      <td>1602661230</td>\n",
       "      <td>80.60</td>\n",
       "    </tr>\n",
       "  </tbody>\n",
       "</table>\n",
       "<p>500 rows × 10 columns</p>\n",
       "</div>"
      ],
      "text/plain": [
       "     Latitude  Longitude         City Country  Temperature  Humidity  \\\n",
       "0       43.41    -124.22   North Bend      US        54.64       100   \n",
       "1       55.74     -97.86     Thompson      CA        30.20        74   \n",
       "2       40.60    -124.16      Fortuna      US        60.53       100   \n",
       "3       44.08     -80.20    Shelburne      CA        45.55        87   \n",
       "4       27.75    -107.63        Creel      MX        53.40        52   \n",
       "..        ...        ...          ...     ...          ...       ...   \n",
       "495     36.21     -86.29      Lebanon      US        46.40       100   \n",
       "496     19.21     -69.34       Samaná      DO        75.56        86   \n",
       "497     39.50     -89.77       Virden      US        51.03        68   \n",
       "498     41.15     -82.55        Huron      US        52.30        68   \n",
       "499     24.70     -77.77  Andros Town      BS        80.60        83   \n",
       "\n",
       "     Cloudiness  Wind Speed        Date  Maximum Temperature  \n",
       "0            75        5.82  1602661168                55.99  \n",
       "1            40       11.41  1602661168                30.20  \n",
       "2            90        3.36  1602661168                62.01  \n",
       "3             1       10.40  1602661168                46.00  \n",
       "4            98        3.76  1602661168                53.40  \n",
       "..          ...         ...         ...                  ...  \n",
       "495          75        2.77  1602661229                46.40  \n",
       "496           0        1.81  1602661229                75.56  \n",
       "497         100        1.99  1602661229                52.00  \n",
       "498           0        1.01  1602661230                53.01  \n",
       "499          40        6.93  1602661230                80.60  \n",
       "\n",
       "[500 rows x 10 columns]"
      ]
     },
     "execution_count": 7,
     "metadata": {},
     "output_type": "execute_result"
    }
   ],
   "source": [
    "weather_data.to_csv(\"../WeatherPy_output/weather_data.csv\", index=False)\n",
    "weather_data = pd.read_csv(\"../WeatherPy_output/weather_data.csv\")\n",
    "weather_data"
   ]
  },
  {
   "cell_type": "markdown",
   "metadata": {},
   "source": [
    "## Inspect the data and remove the cities where the humidity > 100%.\n",
    "----\n",
    "Skip this step if there are no cities that have humidity > 100%. "
   ]
  },
  {
   "cell_type": "code",
   "execution_count": 8,
   "metadata": {},
   "outputs": [
    {
     "data": {
      "text/plain": [
       "0"
      ]
     },
     "execution_count": 8,
     "metadata": {},
     "output_type": "execute_result"
    }
   ],
   "source": [
    "#  Get the indices of cities that have humidity over 100%.\n",
    "hum_100 = weather_data[weather_data[\"Humidity\"]>100]\n",
    "len(hum_100)"
   ]
  },
  {
   "cell_type": "markdown",
   "metadata": {},
   "source": [
    "## Plotting the Data\n",
    "* Use proper labeling of the plots using plot titles (including date of analysis) and axes labels.\n",
    "* Save the plotted figures as .pngs.\n",
    "\n",
    "#### Your first requirement is to create a series of scatter plots to showcase the following relationships:\n",
    "\n",
    "* Temperature (F) vs. Latitude\n",
    "* Humidity (%) vs. Latitude\n",
    "* Cloudiness (%) vs. Latitude\n",
    "* Wind Speed (mph) vs. Latitude\n",
    "\n",
    "After each plot add a sentence or too explaining what the code is and analyzing."
   ]
  },
  {
   "cell_type": "markdown",
   "metadata": {},
   "source": [
    "## Latitude vs. Temperature Plot"
   ]
  },
  {
   "cell_type": "code",
   "execution_count": 9,
   "metadata": {
    "scrolled": true
   },
   "outputs": [
    {
     "data": {
      "image/png": "[encoded data removed]",
      "text/plain": [
       "<Figure size 432x288 with 1 Axes>"
      ]
     },
     "metadata": {
      "needs_background": "light"
     },
     "output_type": "display_data"
    }
   ],
   "source": [
    "# Tell matplotlib to create a scatter plot based upon the above data\n",
    "plt.scatter(latitude, temp, marker=\"o\", facecolors=\"skyblue\", edgecolors=\"steelblue\")\n",
    "plt.ylabel(\"Temperature\")\n",
    "plt.xlabel(\"Latitude\")\n",
    "plt.savefig(\"../WeatherPy_output/plot01.png\")"
   ]
  },
  {
   "cell_type": "markdown",
   "metadata": {},
   "source": [
    "## Latitude vs. Humidity Plot"
   ]
  },
  {
   "cell_type": "code",
   "execution_count": 10,
   "metadata": {},
   "outputs": [
    {
     "data": {
      "image/png": "[encoded data removed]",
      "text/plain": [
       "<Figure size 432x288 with 1 Axes>"
      ]
     },
     "metadata": {
      "needs_background": "light"
     },
     "output_type": "display_data"
    }
   ],
   "source": [
    "# Tell matplotlib to create a scatter plot based upon the above data\n",
    "plt.scatter(latitude, humidity, marker=\"o\", facecolors=\"skyblue\", edgecolors=\"steelblue\")\n",
    "plt.ylabel(\"Humidity\")\n",
    "plt.xlabel(\"Latitude\")\n",
    "plt.savefig(\"../WeatherPy_output/plot02.png\")"
   ]
  },
  {
   "cell_type": "markdown",
   "metadata": {},
   "source": [
    "## Latitude vs. Cloudiness Plot"
   ]
  },
  {
   "cell_type": "code",
   "execution_count": 11,
   "metadata": {},
   "outputs": [
    {
     "data": {
      "image/png": "[encoded data removed]",
      "text/plain": [
       "<Figure size 432x288 with 1 Axes>"
      ]
     },
     "metadata": {
      "needs_background": "light"
     },
     "output_type": "display_data"
    }
   ],
   "source": [
    "# Tell matplotlib to create a scatter plot based upon the above data\n",
    "plt.scatter(latitude, cloudiness, marker=\"o\", facecolors=\"skyblue\", edgecolors=\"steelblue\")\n",
    "plt.ylabel(\"Cloudiness\")\n",
    "plt.xlabel(\"Latitude\")\n",
    "plt.savefig(\"../WeatherPy_output/plot03.png\")"
   ]
  },
  {
   "cell_type": "markdown",
   "metadata": {},
   "source": [
    "## Latitude vs. Wind Speed Plot"
   ]
  },
  {
   "cell_type": "code",
   "execution_count": 12,
   "metadata": {},
   "outputs": [
    {
     "data": {
      "image/png": "[encoded data removed]",
      "text/plain": [
       "<Figure size 432x288 with 1 Axes>"
      ]
     },
     "metadata": {
      "needs_background": "light"
     },
     "output_type": "display_data"
    }
   ],
   "source": [
    "# Tell matplotlib to create a scatter plot based upon the above data\n",
    "plt.scatter(latitude, wind_speed, marker=\"o\", facecolors=\"skyblue\", edgecolors=\"steelblue\")\n",
    "plt.ylabel(\"Wind Speed\")\n",
    "plt.xlabel(\"Latitude\")\n",
    "plt.savefig(\"../WeatherPy_output/plot04.png\")"
   ]
  },
  {
   "cell_type": "markdown",
   "metadata": {},
   "source": [
    "## Linear Regression"
   ]
  },
  {
   "cell_type": "markdown",
   "metadata": {},
   "source": [
    "#### Your second requirement is to run linear regression on each relationship, only this time separating them into Northern Hemisphere (greater than or equal to 0 degrees latitude) and Southern Hemisphere (less than 0 degrees latitude):\n",
    "\n",
    "* Northern Hemisphere - Temperature (F) vs. Latitude\n",
    "* Southern Hemisphere - Temperature (F) vs. Latitude\n",
    "* Northern Hemisphere - Humidity (%) vs. Latitude\n",
    "* Southern Hemisphere - Humidity (%) vs. Latitude\n",
    "* Northern Hemisphere - Cloudiness (%) vs. Latitude\n",
    "* Southern Hemisphere - Cloudiness (%) vs. Latitude\n",
    "* Northern Hemisphere - Wind Speed (mph) vs. Latitude\n",
    "* Southern Hemisphere - Wind Speed (mph) vs. Latitude\n",
    "\n",
    "#### After each pair of plots explain what the linear regression is modeling such as any relationships you notice and any other analysis you may have."
   ]
  },
  {
   "cell_type": "code",
   "execution_count": null,
   "metadata": {},
   "outputs": [],
   "source": []
  },
  {
   "cell_type": "markdown",
   "metadata": {},
   "source": [
    "####  Northern Hemisphere - Max Temp vs. Latitude Linear Regression"
   ]
  },
  {
   "cell_type": "code",
   "execution_count": 13,
   "metadata": {},
   "outputs": [
    {
     "name": "stdout",
     "output_type": "stream",
     "text": [
      "The r-squared is: 0.4692388734851416\n"
     ]
    },
    {
     "data": {
      "image/png": "[encoded data removed]",
      "text/plain": [
       "<Figure size 432x288 with 1 Axes>"
      ]
     },
     "metadata": {
      "needs_background": "light"
     },
     "output_type": "display_data"
    }
   ],
   "source": [
    "x_values = weather_data['Latitude']\n",
    "y_values = weather_data['Maximum Temperature']\n",
    "(slope, intercept, rvalue, pvalue, stderr) = linregress(x_values, y_values)\n",
    "regress_values = x_values * slope + intercept\n",
    "line_eq = \"y = \" + str(round(slope,2)) + \"x + \" + str(round(intercept,2))\n",
    "plt.scatter(x_values,y_values)\n",
    "plt.plot(x_values,regress_values,\"r-\")\n",
    "plt.annotate(line_eq,(0,50),fontsize=15,color=\"red\")\n",
    "plt.xlabel('Latitude')\n",
    "plt.ylabel('Maximum Temperature')\n",
    "plt.savefig(\"../WeatherPy_output/plot05.png\")\n",
    "print(f\"The r-squared is: {rvalue**2}\")\n",
    "plt.show()"
   ]
  },
  {
   "cell_type": "markdown",
   "metadata": {},
   "source": [
    "####  Southern Hemisphere - Max Temp vs. Latitude Linear Regression"
   ]
  },
  {
   "cell_type": "code",
   "execution_count": 14,
   "metadata": {},
   "outputs": [
    {
     "name": "stdout",
     "output_type": "stream",
     "text": [
      "The r-squared is: 0.4692388734851416\n"
     ]
    },
    {
     "data": {
      "image/png": "[encoded data removed]",
      "text/plain": [
       "<Figure size 432x288 with 1 Axes>"
      ]
     },
     "metadata": {
      "needs_background": "light"
     },
     "output_type": "display_data"
    }
   ],
   "source": [
    "x_values = weather_data['Latitude']\n",
    "y_values = weather_data['Maximum Temperature']\n",
    "(slope, intercept, rvalue, pvalue, stderr) = linregress(x_values, y_values)\n",
    "regress_values = x_values * slope + intercept\n",
    "line_eq = \"y = \" + str(round(slope,2)) + \"x + \" + str(round(intercept,2))\n",
    "plt.scatter(x_values,y_values)\n",
    "plt.plot(x_values,regress_values,\"r-\")\n",
    "plt.annotate(line_eq,(0,50),fontsize=15,color=\"red\")\n",
    "plt.xlabel('Latitude')\n",
    "plt.ylabel('Maximum Temperature')\n",
    "plt.savefig(\"../WeatherPy_output/plot06.png\")\n",
    "print(f\"The r-squared is: {rvalue**2}\")\n",
    "plt.show()"
   ]
  },
  {
   "cell_type": "markdown",
   "metadata": {},
   "source": [
    "####  Northern Hemisphere - Humidity (%) vs. Latitude Linear Regression"
   ]
  },
  {
   "cell_type": "code",
   "execution_count": 15,
   "metadata": {},
   "outputs": [
    {
     "name": "stdout",
     "output_type": "stream",
     "text": [
      "The r-squared is: 0.0010214915314411168\n"
     ]
    },
    {
     "data": {
      "image/png": "[encoded data removed]",
      "text/plain": [
       "<Figure size 432x288 with 1 Axes>"
      ]
     },
     "metadata": {
      "needs_background": "light"
     },
     "output_type": "display_data"
    }
   ],
   "source": [
    "x_values = weather_data['Latitude']\n",
    "y_values = weather_data['Humidity']\n",
    "(slope, intercept, rvalue, pvalue, stderr) = linregress(x_values, y_values)\n",
    "regress_values = x_values * slope + intercept\n",
    "line_eq = \"y = \" + str(round(slope,2)) + \"x + \" + str(round(intercept,2))\n",
    "plt.scatter(x_values,y_values)\n",
    "plt.plot(x_values,regress_values,\"r-\")\n",
    "plt.annotate(line_eq,(0,50),fontsize=15,color=\"red\")\n",
    "plt.xlabel('Latitude')\n",
    "plt.ylabel('Maximum Temperature')\n",
    "plt.savefig(\"../WeatherPy_output/plot07.png\")\n",
    "print(f\"The r-squared is: {rvalue**2}\")\n",
    "plt.show()"
   ]
  },
  {
   "cell_type": "markdown",
   "metadata": {},
   "source": [
    "####  Southern Hemisphere - Humidity (%) vs. Latitude Linear Regression"
   ]
  },
  {
   "cell_type": "code",
   "execution_count": 16,
   "metadata": {},
   "outputs": [
    {
     "name": "stdout",
     "output_type": "stream",
     "text": [
      "The r-squared is: 0.0010214915314411168\n"
     ]
    },
    {
     "data": {
      "image/png": "[encoded data removed]",
      "text/plain": [
       "<Figure size 432x288 with 1 Axes>"
      ]
     },
     "metadata": {
      "needs_background": "light"
     },
     "output_type": "display_data"
    }
   ],
   "source": [
    "x_values = weather_data['Latitude']\n",
    "y_values = weather_data['Humidity']\n",
    "(slope, intercept, rvalue, pvalue, stderr) = linregress(x_values, y_values)\n",
    "regress_values = x_values * slope + intercept\n",
    "line_eq = \"y = \" + str(round(slope,2)) + \"x + \" + str(round(intercept,2))\n",
    "plt.scatter(x_values,y_values)\n",
    "plt.plot(x_values,regress_values,\"r-\")\n",
    "plt.annotate(line_eq,(0,50),fontsize=15,color=\"red\")\n",
    "plt.xlabel('Latitude')\n",
    "plt.ylabel('Maximum Temperature')\n",
    "plt.savefig(\"../WeatherPy_output/plot08.png\")\n",
    "print(f\"The r-squared is: {rvalue**2}\")\n",
    "plt.show()"
   ]
  },
  {
   "cell_type": "markdown",
   "metadata": {},
   "source": [
    "####  Northern Hemisphere - Cloudiness (%) vs. Latitude Linear Regression"
   ]
  },
  {
   "cell_type": "code",
   "execution_count": 17,
   "metadata": {},
   "outputs": [
    {
     "name": "stdout",
     "output_type": "stream",
     "text": [
      "The r-squared is: 0.02342294339624006\n"
     ]
    },
    {
     "data": {
      "image/png": "[encoded data removed]",
      "text/plain": [
       "<Figure size 432x288 with 1 Axes>"
      ]
     },
     "metadata": {
      "needs_background": "light"
     },
     "output_type": "display_data"
    }
   ],
   "source": [
    "x_values = weather_data['Latitude']\n",
    "y_values = weather_data['Cloudiness']\n",
    "(slope, intercept, rvalue, pvalue, stderr) = linregress(x_values, y_values)\n",
    "regress_values = x_values * slope + intercept\n",
    "line_eq = \"y = \" + str(round(slope,2)) + \"x + \" + str(round(intercept,2))\n",
    "plt.scatter(x_values,y_values)\n",
    "plt.plot(x_values,regress_values,\"r-\")\n",
    "plt.annotate(line_eq,(0,50),fontsize=15,color=\"red\")\n",
    "plt.xlabel('Latitude')\n",
    "plt.ylabel('Maximum Temperature')\n",
    "plt.savefig(\"../WeatherPy_output/plot09.png\")\n",
    "print(f\"The r-squared is: {rvalue**2}\")\n",
    "plt.show()"
   ]
  },
  {
   "cell_type": "markdown",
   "metadata": {},
   "source": [
    "####  Southern Hemisphere - Cloudiness (%) vs. Latitude Linear Regression"
   ]
  },
  {
   "cell_type": "code",
   "execution_count": 18,
   "metadata": {},
   "outputs": [
    {
     "name": "stdout",
     "output_type": "stream",
     "text": [
      "The r-squared is: 0.02342294339624006\n"
     ]
    },
    {
     "data": {
      "image/png": "[encoded data removed]",
      "text/plain": [
       "<Figure size 432x288 with 1 Axes>"
      ]
     },
     "metadata": {
      "needs_background": "light"
     },
     "output_type": "display_data"
    }
   ],
   "source": [
    "x_values = weather_data['Latitude']\n",
    "y_values = weather_data['Cloudiness']\n",
    "(slope, intercept, rvalue, pvalue, stderr) = linregress(x_values, y_values)\n",
    "regress_values = x_values * slope + intercept\n",
    "line_eq = \"y = \" + str(round(slope,2)) + \"x + \" + str(round(intercept,2))\n",
    "plt.scatter(x_values,y_values)\n",
    "plt.plot(x_values,regress_values,\"r-\")\n",
    "plt.annotate(line_eq,(0,50),fontsize=15,color=\"red\")\n",
    "plt.xlabel('Latitude')\n",
    "plt.ylabel('Maximum Temperature')\n",
    "plt.savefig(\"../WeatherPy_output/plot10.png\")\n",
    "print(f\"The r-squared is: {rvalue**2}\")\n",
    "plt.show()"
   ]
  },
  {
   "cell_type": "markdown",
   "metadata": {},
   "source": [
    "####  Northern Hemisphere - Wind Speed (mph) vs. Latitude Linear Regression"
   ]
  },
  {
   "cell_type": "code",
   "execution_count": 19,
   "metadata": {},
   "outputs": [
    {
     "name": "stdout",
     "output_type": "stream",
     "text": [
      "The r-squared is: 0.015482752878982488\n"
     ]
    },
    {
     "data": {
      "image/png": "[encoded data removed]",
      "text/plain": [
       "<Figure size 432x288 with 1 Axes>"
      ]
     },
     "metadata": {
      "needs_background": "light"
     },
     "output_type": "display_data"
    }
   ],
   "source": [
    "x_values = weather_data['Latitude']\n",
    "y_values = weather_data['Wind Speed']\n",
    "(slope, intercept, rvalue, pvalue, stderr) = linregress(x_values, y_values)\n",
    "regress_values = x_values * slope + intercept\n",
    "line_eq = \"y = \" + str(round(slope,2)) + \"x + \" + str(round(intercept,2))\n",
    "plt.scatter(x_values,y_values)\n",
    "plt.plot(x_values,regress_values,\"r-\")\n",
    "plt.annotate(line_eq,(0,50),fontsize=15,color=\"red\")\n",
    "plt.xlabel('Latitude')\n",
    "plt.ylabel('Maximum Temperature')\n",
    "plt.savefig(\"../WeatherPy_output/plot11.png\")\n",
    "print(f\"The r-squared is: {rvalue**2}\")\n",
    "plt.show()"
   ]
  },
  {
   "cell_type": "markdown",
   "metadata": {},
   "source": [
    "####  Southern Hemisphere - Wind Speed (mph) vs. Latitude Linear Regression"
   ]
  },
  {
   "cell_type": "code",
   "execution_count": 20,
   "metadata": {},
   "outputs": [
    {
     "name": "stdout",
     "output_type": "stream",
     "text": [
      "The r-squared is: 0.015482752878982488\n"
     ]
    },
    {
     "data": {
      "image/png": "[encoded data removed]",
      "text/plain": [
       "<Figure size 432x288 with 1 Axes>"
      ]
     },
     "metadata": {
      "needs_background": "light"
     },
     "output_type": "display_data"
    }
   ],
   "source": [
    "x_values = weather_data['Latitude']\n",
    "y_values = weather_data['Wind Speed']\n",
    "(slope, intercept, rvalue, pvalue, stderr) = linregress(x_values, y_values)\n",
    "regress_values = x_values * slope + intercept\n",
    "line_eq = \"y = \" + str(round(slope,2)) + \"x + \" + str(round(intercept,2))\n",
    "plt.scatter(x_values,y_values)\n",
    "plt.plot(x_values,regress_values,\"r-\")\n",
    "plt.annotate(line_eq,(0,50),fontsize=15,color=\"red\")\n",
    "plt.xlabel('Latitude')\n",
    "plt.ylabel('Maximum Temperature')\n",
    "plt.savefig(\"../WeatherPy_output/plot12.png\")\n",
    "print(f\"The r-squared is: {rvalue**2}\")\n",
    "plt.show()"
   ]
  }
 ],
 "metadata": {
  "anaconda-cloud": {},
  "kernel_info": {
   "name": "python3"
  },
  "kernelspec": {
   "display_name": "Python 3",
   "language": "python",
   "name": "python3"
  },
  "language_info": {
   "codemirror_mode": {
    "name": "ipython",
    "version": 3
   },
   "file_extension": ".py",
   "mimetype": "text/x-python",
   "name": "python",
   "nbconvert_exporter": "python",
   "pygments_lexer": "ipython3",
   "version": "3.8.5"
  },
  "latex_envs": {
   "LaTeX_envs_menu_present": true,
   "autoclose": false,
   "autocomplete": true,
   "bibliofile": "biblio.bib",
   "cite_by": "apalike",
   "current_citInitial": 1,
   "eqLabelWithNumbers": true,
   "eqNumInitial": 1,
   "hotkeys": {
    "equation": "Ctrl-E",
    "itemize": "Ctrl-I"
   },
   "labels_anchors": false,
   "latex_user_defs": false,
   "report_style_numbering": false,
   "user_envs_cfg": false
  },
  "nteract": {
   "version": "0.12.3"
  }
 },
 "nbformat": 4,
 "nbformat_minor": 2
}
