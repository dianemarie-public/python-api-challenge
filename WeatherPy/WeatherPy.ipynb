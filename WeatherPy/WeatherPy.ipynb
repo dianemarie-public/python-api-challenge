{
 "cells": [
  {
   "cell_type": "markdown",
   "metadata": {},
   "source": [
    "# WeatherPy\n",
    "----\n",
    "\n",
    "#### Final notebook includes:\n",
    "* Randomly select **at least** 500 unique (non-repeat) cities based on latitude and longitude.\n",
    "* Perform a weather check on each of the cities using a series of successive API calls.\n",
    "* Include a print log of each city as it's being processed with the city number and city name.\n",
    "* Save a CSV of all retrieved data and a PNG image for each scatter plot."
   ]
  },
  {
   "cell_type": "markdown",
   "metadata": {},
   "source": [
    "## Generate Cities List\n",
    "\n",
    "* Found the limits of latitude and and longitude here [Mapbox | Help | latitude and longitude](https://docs.mapbox.com/help/glossary/lat-lon/#:~:text=Latitude%20and%20longitude%20are%20a,180%20to%20180%20for%20longitude.).\n",
    "* Found the random.uniform method at [NumPy.org | Random Sampling](https://numpy.org/doc/stable/reference/random/generated/numpy.random.uniform.html)\n",
    "```\n",
    "numpy.random.uniform(low=0.0, high=1.0, size=None)\n",
    "```\n",
    "* Found documentation and code for citipy here [citipy Release 0.0.5 | Looking up with coordinates](https://libraries.io/pypi/citipy).\n",
    "```\n",
    "from citipy import citipy\n",
    "# Coordinates for nearest city (latitude, longitude)\n",
    "city = citipy.nearest_city(22.99, 120.21)\n",
    "# Name of nearest city\n",
    "city.city_name\n",
    "# Country of nearest city\n",
    "city.country_code\n",
    "```\n",
    "* Found documentation on date/time stamps on page #67 here: [Python for Data Analysis](https://www.cin.ufpe.br/~embat/Python%20for%20Data%20Analysis.pdf)\n",
    "\n",
    "* Found documentation on formatting time here: [Python.org | Library | Time](https://docs.python.org/3/library/time.html)"
   ]
  },
  {
   "cell_type": "markdown",
   "metadata": {},
   "source": [
    "#### Randomly select **at least** 500 unique (non-repeat) cities based on latitude and longitude."
   ]
  },
  {
   "cell_type": "code",
   "execution_count": null,
   "metadata": {},
   "outputs": [],
   "source": [
    "# Dependencies\n",
    "import os\n",
    "import matplotlib.pyplot as plt\n",
    "from scipy import stats\n",
    "import pandas as pd\n",
    "import numpy as np\n",
    "from citipy import citipy\n",
    "import time # date_time = time.localtime()\n",
    "import requests\n",
    "\n",
    "# Import my api keys for Open Weather and Google\n",
    "from api_keys import weather_api_key"
   ]
  },
  {
   "cell_type": "code",
   "execution_count": null,
   "metadata": {},
   "outputs": [],
   "source": [
    "# Create list for latitude/longitude and cities (separate from random versions)\n",
    "lat_long = []\n",
    "cities = []"
   ]
  },
  {
   "cell_type": "code",
   "execution_count": null,
   "metadata": {
    "scrolled": true
   },
   "outputs": [],
   "source": [
    "# Create variables for random values\n",
    "# limits low/high -90/90 for latitude, -180/180 for longitude\n",
    "# 3000 (the 3rd value) is the amount of items to pull\n",
    "\n",
    "random_lat = np.random.uniform(low = 19.50139, high = 64.85694, size = 1500)\n",
    "random_long = np.random.uniform(low = -161.75583, high = -68.01197, size = 1500)\n",
    "random_lat_long = zip(random_lat, random_long)\n",
    "\n",
    "# Create a for loop to identify the closest city using citipy        \n",
    "for lat_long in random_lat_long:\n",
    "    city = citipy.nearest_city(lat_long[0], lat_long[1]).city_name\n",
    "    city = city.title()\n",
    "    \n",
    "    if city not in cities:\n",
    "        # Add geocode to cities list\n",
    "        cities.append(city)\n",
    "\n",
    "# Check count of actual cities found out of all the random coordinates generated\n",
    "print(f\"Number of cities found: {len(cities)}.\")\n",
    "city"
   ]
  },
  {
   "cell_type": "markdown",
   "metadata": {},
   "source": [
    "### Perform API Calls\n",
    "* Perform a weather check on each city using a series of successive API calls.\n",
    "* Include a print log of each city as it'sbeing processed (with the city number and city name)."
   ]
  },
  {
   "cell_type": "code",
   "execution_count": null,
   "metadata": {},
   "outputs": [],
   "source": [
    "# Save api key(s) information\n",
    "url = \"http://api.openweathermap.org/data/2.5/weather?\" \n",
    "units = \"imperial\" # Thanks to my classmate Dez for warning me about this!\n",
    "\n",
    "query_url = f\"{url}appid={weather_api_key}&units={units}&q=\"\n",
    "\n",
    "# Set up lists to hold response data \n",
    "# from cities.csv sample in homework instructions, then match up with api specs.\n",
    "latitude = []\n",
    "longitude = []\n",
    "city_name = []\n",
    "country = []\n",
    "temp = []\n",
    "humidity = []\n",
    "cloudiness = []\n",
    "wind_speed = []\n",
    "date = []\n",
    "max_temp = []"
   ]
  },
  {
   "cell_type": "markdown",
   "metadata": {},
   "source": [
    "#### Open Weather API \n",
    "* Data needed from API found at: [Examples of API calls](https://openweathermap.org/current)\n",
    ">**coord: lon, lat | name | sys:** type, id, message, **country**, sunrise, sunset | **main: temp**, feels_like, temp_min, **temp_max**, pressure, **humidity | clouds: all | dt | wind: speed**, deg"
   ]
  },
  {
   "cell_type": "code",
   "execution_count": null,
   "metadata": {
    "scrolled": true
   },
   "outputs": [],
   "source": [
    "# Create for loop from the list of random cities generated in the first part\n",
    "# Don't forget a counter and the try exception!\n",
    "\n",
    "count = 1\n",
    "\n",
    "print(f\"Looking for Open Weather data...\")\n",
    "\n",
    "for city in cities:\n",
    "    try:\n",
    "        if(count > 500):\n",
    "            break\n",
    "        weather_data = requests.get(f\"{query_url}{city}\").json()\n",
    "        \n",
    "        latitude.append(weather_data[\"coord\"][\"lat\"])\n",
    "        longitude.append(weather_data[\"coord\"][\"lon\"])\n",
    "        city_name.append(weather_data[\"name\"])\n",
    "        country.append(weather_data[\"sys\"][\"country\"])\n",
    "        temp.append(weather_data[\"main\"][\"temp\"])\n",
    "        humidity.append(weather_data[\"main\"][\"humidity\"])\n",
    "        cloudiness.append(weather_data[\"clouds\"][\"all\"])\n",
    "        wind_speed.append(weather_data[\"wind\"][\"speed\"])\n",
    "        date.append(weather_data[\"dt\"])\n",
    "        max_temp.append(weather_data[\"main\"]['temp_max'])\n",
    "        \n",
    "        print(f\"Found Open Weather data for {count} of {len(cities)}: {city_name}\")\n",
    "        count = count + 1\n",
    "        \n",
    "    except:\n",
    "        print(f\"Open Weather data not found for {city}, trying the next city.\")\n",
    "    \n",
    "    continue "
   ]
  },
  {
   "cell_type": "code",
   "execution_count": null,
   "metadata": {},
   "outputs": [],
   "source": [
    "len(city)"
   ]
  },
  {
   "cell_type": "markdown",
   "metadata": {},
   "source": [
    "# Create a data fram from cities and lat_long\n",
    "weather_dict = {\n",
    "    \"city\":city,\n",
    "}\n",
    "weather_data = pd.DataFrame(weather_dict)\n",
    "weather_data.head()"
   ]
  },
  {
   "cell_type": "markdown",
   "metadata": {},
   "source": [
    "#### Perform a weather check on each of the cities using a series of successive API calls."
   ]
  },
  {
   "cell_type": "markdown",
   "metadata": {},
   "source": [
    "# Get weather data\n",
    "weather_response = requests.get(query_url)\n",
    "weather_json = weather_response.json()\n",
    "\n",
    "# Get the temperature from the response\n",
    "print(f\"The weather API responded with: {weather_json}.\")"
   ]
  },
  {
   "cell_type": "code",
   "execution_count": null,
   "metadata": {},
   "outputs": [],
   "source": []
  },
  {
   "cell_type": "markdown",
   "metadata": {},
   "source": [
    "### Convert Raw Data to DataFrame\n",
    "* Export the city data into a .csv.\n",
    "* Display the DataFrame"
   ]
  },
  {
   "cell_type": "code",
   "execution_count": null,
   "metadata": {},
   "outputs": [],
   "source": []
  },
  {
   "cell_type": "markdown",
   "metadata": {},
   "source": [
    "## Inspect the data and remove the cities where the humidity > 100%.\n",
    "----\n",
    "Skip this step if there are no cities that have humidity > 100%. "
   ]
  },
  {
   "cell_type": "code",
   "execution_count": null,
   "metadata": {},
   "outputs": [],
   "source": []
  },
  {
   "cell_type": "code",
   "execution_count": null,
   "metadata": {},
   "outputs": [],
   "source": [
    "#  Get the indices of cities that have humidity over 100%.\n"
   ]
  },
  {
   "cell_type": "code",
   "execution_count": null,
   "metadata": {},
   "outputs": [],
   "source": [
    "# Make a new DataFrame equal to the city data to drop all humidity outliers by index.\n",
    "# Passing \"inplace=False\" will make a copy of the city_data DataFrame, which we call \"clean_city_data\".\n"
   ]
  },
  {
   "cell_type": "code",
   "execution_count": null,
   "metadata": {},
   "outputs": [],
   "source": [
    "\n"
   ]
  },
  {
   "cell_type": "markdown",
   "metadata": {},
   "source": [
    "## Plotting the Data\n",
    "* Use proper labeling of the plots using plot titles (including date of analysis) and axes labels.\n",
    "* Save the plotted figures as .pngs.\n",
    "\n",
    "#### Your first requirement is to create a series of scatter plots to showcase the following relationships:\n",
    "\n",
    "* Temperature (F) vs. Latitude\n",
    "* Humidity (%) vs. Latitude\n",
    "* Cloudiness (%) vs. Latitude\n",
    "* Wind Speed (mph) vs. Latitude\n",
    "\n",
    "After each plot add a sentence or too explaining what the code is and analyzing."
   ]
  },
  {
   "cell_type": "markdown",
   "metadata": {},
   "source": [
    "## Latitude vs. Temperature Plot"
   ]
  },
  {
   "cell_type": "code",
   "execution_count": null,
   "metadata": {
    "scrolled": true
   },
   "outputs": [],
   "source": []
  },
  {
   "cell_type": "markdown",
   "metadata": {},
   "source": [
    "## Latitude vs. Humidity Plot"
   ]
  },
  {
   "cell_type": "code",
   "execution_count": null,
   "metadata": {},
   "outputs": [],
   "source": []
  },
  {
   "cell_type": "markdown",
   "metadata": {},
   "source": [
    "## Latitude vs. Cloudiness Plot"
   ]
  },
  {
   "cell_type": "code",
   "execution_count": null,
   "metadata": {},
   "outputs": [],
   "source": []
  },
  {
   "cell_type": "markdown",
   "metadata": {},
   "source": [
    "## Latitude vs. Wind Speed Plot"
   ]
  },
  {
   "cell_type": "code",
   "execution_count": null,
   "metadata": {},
   "outputs": [],
   "source": []
  },
  {
   "cell_type": "markdown",
   "metadata": {},
   "source": [
    "## Linear Regression"
   ]
  },
  {
   "cell_type": "markdown",
   "metadata": {},
   "source": [
    "#### Your second requirement is to run linear regression on each relationship, only this time separating them into Northern Hemisphere (greater than or equal to 0 degrees latitude) and Southern Hemisphere (less than 0 degrees latitude):\n",
    "\n",
    "* Northern Hemisphere - Temperature (F) vs. Latitude\n",
    "* Southern Hemisphere - Temperature (F) vs. Latitude\n",
    "* Northern Hemisphere - Humidity (%) vs. Latitude\n",
    "* Southern Hemisphere - Humidity (%) vs. Latitude\n",
    "* Northern Hemisphere - Cloudiness (%) vs. Latitude\n",
    "* Southern Hemisphere - Cloudiness (%) vs. Latitude\n",
    "* Northern Hemisphere - Wind Speed (mph) vs. Latitude\n",
    "* Southern Hemisphere - Wind Speed (mph) vs. Latitude\n",
    "\n",
    "#### After each pair of plots explain what the linear regression is modeling such as any relationships you notice and any other analysis you may have."
   ]
  },
  {
   "cell_type": "markdown",
   "metadata": {},
   "source": [
    "####  Northern Hemisphere - Max Temp vs. Latitude Linear Regression"
   ]
  },
  {
   "cell_type": "code",
   "execution_count": null,
   "metadata": {},
   "outputs": [],
   "source": []
  },
  {
   "cell_type": "markdown",
   "metadata": {},
   "source": [
    "####  Southern Hemisphere - Max Temp vs. Latitude Linear Regression"
   ]
  },
  {
   "cell_type": "code",
   "execution_count": null,
   "metadata": {},
   "outputs": [],
   "source": []
  },
  {
   "cell_type": "markdown",
   "metadata": {},
   "source": [
    "####  Northern Hemisphere - Humidity (%) vs. Latitude Linear Regression"
   ]
  },
  {
   "cell_type": "code",
   "execution_count": null,
   "metadata": {},
   "outputs": [],
   "source": []
  },
  {
   "cell_type": "markdown",
   "metadata": {},
   "source": [
    "####  Southern Hemisphere - Humidity (%) vs. Latitude Linear Regression"
   ]
  },
  {
   "cell_type": "code",
   "execution_count": null,
   "metadata": {},
   "outputs": [],
   "source": []
  },
  {
   "cell_type": "markdown",
   "metadata": {},
   "source": [
    "####  Northern Hemisphere - Cloudiness (%) vs. Latitude Linear Regression"
   ]
  },
  {
   "cell_type": "code",
   "execution_count": null,
   "metadata": {},
   "outputs": [],
   "source": []
  },
  {
   "cell_type": "markdown",
   "metadata": {},
   "source": [
    "####  Southern Hemisphere - Cloudiness (%) vs. Latitude Linear Regression"
   ]
  },
  {
   "cell_type": "code",
   "execution_count": null,
   "metadata": {},
   "outputs": [],
   "source": []
  },
  {
   "cell_type": "markdown",
   "metadata": {},
   "source": [
    "####  Northern Hemisphere - Wind Speed (mph) vs. Latitude Linear Regression"
   ]
  },
  {
   "cell_type": "code",
   "execution_count": null,
   "metadata": {},
   "outputs": [],
   "source": []
  },
  {
   "cell_type": "markdown",
   "metadata": {},
   "source": [
    "####  Southern Hemisphere - Wind Speed (mph) vs. Latitude Linear Regression"
   ]
  },
  {
   "cell_type": "code",
   "execution_count": null,
   "metadata": {},
   "outputs": [],
   "source": []
  },
  {
   "cell_type": "code",
   "execution_count": null,
   "metadata": {},
   "outputs": [],
   "source": []
  }
 ],
 "metadata": {
  "anaconda-cloud": {},
  "kernel_info": {
   "name": "python3"
  },
  "kernelspec": {
   "display_name": "Python [conda env:root] *",
   "language": "python",
   "name": "conda-root-py"
  },
  "language_info": {
   "codemirror_mode": {
    "name": "ipython",
    "version": 3
   },
   "file_extension": ".py",
   "mimetype": "text/x-python",
   "name": "python",
   "nbconvert_exporter": "python",
   "pygments_lexer": "ipython3",
   "version": "3.8.3"
  },
  "latex_envs": {
   "LaTeX_envs_menu_present": true,
   "autoclose": false,
   "autocomplete": true,
   "bibliofile": "biblio.bib",
   "cite_by": "apalike",
   "current_citInitial": 1,
   "eqLabelWithNumbers": true,
   "eqNumInitial": 1,
   "hotkeys": {
    "equation": "Ctrl-E",
    "itemize": "Ctrl-I"
   },
   "labels_anchors": false,
   "latex_user_defs": false,
   "report_style_numbering": false,
   "user_envs_cfg": false
  },
  "nteract": {
   "version": "0.12.3"
  }
 },
 "nbformat": 4,
 "nbformat_minor": 2
}
